{
 "cells": [
  {
   "cell_type": "markdown",
   "metadata": {},
   "source": [
    "# Step 3: Upload audios and transcriptions to Azure Storage\n",
    "\n",
    "**Content**\n",
    "\n",
    "* Create Containers\n",
    "* Upload Audios and Transcriptions\n",
    "* Check Blob Files"
   ]
  },
  {
   "cell_type": "markdown",
   "metadata": {},
   "source": [
    "References:\n",
    "   * Quickstart: Manage blobs with Python v12 SDK: https://docs.microsoft.com/pt-br/azure/storage/blobs/storage-quickstart-blobs-python"
   ]
  },
  {
   "cell_type": "code",
   "execution_count": null,
   "metadata": {},
   "outputs": [],
   "source": [
    "! pip install pip install azure-storage-blob"
   ]
  },
  {
   "cell_type": "code",
   "execution_count": 7,
   "metadata": {},
   "outputs": [],
   "source": [
    "from azure.storage.blob import BlobServiceClient, BlobClient, ContainerClient, __version__\n",
    "import os, shutil, yaml"
   ]
  },
  {
   "cell_type": "markdown",
   "metadata": {},
   "source": [
    "Load config"
   ]
  },
  {
   "cell_type": "code",
   "execution_count": 53,
   "metadata": {},
   "outputs": [],
   "source": [
    "config_file = os.path.join(\"config\",\"config.yaml\")\n",
    "with open(config_file, 'r') as ymlfile:\n",
    "    config = yaml.load(ymlfile, Loader=yaml.FullLoader)\n",
    "    \n",
    "\n",
    "##### Configurações do Azure Storage\n",
    "container_name_audios= config['azure_storage']['container_name_audios']\n",
    "container_name_transcricoes= config['azure_storage']['container_name_transcricoes']\n",
    "AZURE_STORAGE_CONNECTION_STRING = config['azure_storage']['conn_string']\n",
    "az_storage_sas_token = config['azure_storage']['sas_token']\n",
    "az_storage_name = config['azure_storage']['storage_name']\n",
    "az_storage_uri = \"https://{name}.dfs.core.windows.net/{container}/\".format(name=az_storage_name, container=container_name)\n"
   ]
  },
  {
   "cell_type": "code",
   "execution_count": 54,
   "metadata": {},
   "outputs": [],
   "source": [
    "blob_service_client = BlobServiceClient.from_connection_string(AZURE_STORAGE_CONNECTION_STRING)\n",
    "container_client=blob_service_client.get_container_client(container_name)"
   ]
  },
  {
   "cell_type": "markdown",
   "metadata": {},
   "source": [
    "## Create Containers\n",
    "Create two containers:\n",
    "* audios\n",
    "* transcricoes"
   ]
  },
  {
   "cell_type": "code",
   "execution_count": 35,
   "metadata": {},
   "outputs": [],
   "source": [
    "def create_blob_container(connect_str, containers):\n",
    "    ''' Criaçã de conteiners no Azure Storage'''\n",
    "    for i in containers:\n",
    "        # Create the BlobServiceClient object which will be used to create a container client\n",
    "        blob_service_client = BlobServiceClient.from_connection_string(connect_str)\n",
    "        try:\n",
    "            # Create the container\n",
    "            container_client = blob_service_client.create_container(i)\n",
    "        except Exception as e:\n",
    "            if e.error_code == 'ContainerAlreadyExists':\n",
    "                print (\"The container {} had already been created.\".format(i))\n",
    "            else:\n",
    "                print(\"Container {}: {}\".format(i,e.message))\n",
    "        else: \n",
    "            print(\"Container {} successfully added.\".format(i))"
   ]
  },
  {
   "cell_type": "code",
   "execution_count": 36,
   "metadata": {},
   "outputs": [
    {
     "name": "stdout",
     "output_type": "stream",
     "text": [
      "Container audios placa successfully added.\n",
      "Container transcricoes placa successfully added.\n"
     ]
    }
   ],
   "source": [
    "create_blob_container(AZURE_STORAGE_CONNECTION_STRING, [container_name_audios, container_name_transcricoes])\n"
   ]
  },
  {
   "cell_type": "markdown",
   "metadata": {},
   "source": [
    "## Upload Audios and Transcriptions"
   ]
  },
  {
   "cell_type": "code",
   "execution_count": 55,
   "metadata": {},
   "outputs": [],
   "source": [
    "def list_files(dir):\n",
    "    '''Listar arquivos em um diretório específico no SO'''\n",
    "    return [f for f in os.listdir(dir) if os.path.isfile(os.path.join(dir, f))]"
   ]
  },
  {
   "cell_type": "code",
   "execution_count": 56,
   "metadata": {},
   "outputs": [],
   "source": [
    "def upload_files_to_storage(container_name):\n",
    "    for i in list_files(container_name):\n",
    "        blob_client = blob_service_client.get_blob_client(container=container_name, blob=i)\n",
    "        print(\"\\nUploading to Azure Storage as blob:\\n\\t\" + i)\n",
    "        \n",
    "        # Upload the created file\n",
    "        with open(os.path.join(container_name, i), \"rb\") as data:\n",
    "            blob_client.upload_blob(data, overwrite=True)"
   ]
  },
  {
   "cell_type": "code",
   "execution_count": 57,
   "metadata": {},
   "outputs": [
    {
     "name": "stdout",
     "output_type": "stream",
     "text": [
      "\n",
      "Uploading to Azure Storage as blob:\n",
      "\tid_1.wav\n",
      "\n",
      "Uploading to Azure Storage as blob:\n",
      "\tid_2.wav\n",
      "\n",
      "Uploading to Azure Storage as blob:\n",
      "\tid_3.wav\n",
      "\n",
      "Uploading to Azure Storage as blob:\n",
      "\tid_4.wav\n",
      "\n",
      "Uploading to Azure Storage as blob:\n",
      "\tid_5.wav\n"
     ]
    }
   ],
   "source": [
    "#Audios\n",
    "upload_files_to_storage(container_name_audios)\n"
   ]
  },
  {
   "cell_type": "code",
   "execution_count": 58,
   "metadata": {},
   "outputs": [
    {
     "name": "stdout",
     "output_type": "stream",
     "text": [
      "\n",
      "Uploading to Azure Storage as blob:\n",
      "\tid_1.json\n",
      "\n",
      "Uploading to Azure Storage as blob:\n",
      "\tid_2.json\n",
      "\n",
      "Uploading to Azure Storage as blob:\n",
      "\tid_3.json\n",
      "\n",
      "Uploading to Azure Storage as blob:\n",
      "\tid_4.json\n",
      "\n",
      "Uploading to Azure Storage as blob:\n",
      "\tid_5.json\n",
      "\n",
      "Uploading to Azure Storage as blob:\n",
      "\treadme.md\n"
     ]
    }
   ],
   "source": [
    "#Transcrições\n",
    "upload_files_to_storage(container_name_transcricoes)\n"
   ]
  },
  {
   "cell_type": "markdown",
   "metadata": {},
   "source": [
    "## Check Blob Files\n"
   ]
  },
  {
   "cell_type": "code",
   "execution_count": 59,
   "metadata": {},
   "outputs": [],
   "source": [
    "def list_blobs_from_container(container_name):\n",
    "    '''Listar arquivos dentro de um container do Azure Storage'''\n",
    "    container_client=blob_service_client.get_container_client(container_name)\n",
    "    blob_list = container_client.list_blobs()\n",
    "    audios = []\n",
    "    for blob in blob_list:\n",
    "        audios.append(blob.name)\n",
    "    return audios"
   ]
  },
  {
   "cell_type": "code",
   "execution_count": 60,
   "metadata": {},
   "outputs": [
    {
     "data": {
      "text/plain": [
       "['id_1.wav', 'id_2.wav', 'id_3.wav', 'id_4.wav', 'id_5.wav']"
      ]
     },
     "execution_count": 60,
     "metadata": {},
     "output_type": "execute_result"
    }
   ],
   "source": [
    "#Audios\n",
    "list_blobs_from_container(container_name_audios)\n"
   ]
  },
  {
   "cell_type": "code",
   "execution_count": 61,
   "metadata": {},
   "outputs": [
    {
     "data": {
      "text/plain": [
       "['id_1.json', 'id_2.json', 'id_3.json', 'id_4.json', 'id_5.json', 'readme.md']"
      ]
     },
     "execution_count": 61,
     "metadata": {},
     "output_type": "execute_result"
    }
   ],
   "source": [
    "#Transcrições\n",
    "list_blobs_from_container(container_name_transcricoes)\n"
   ]
  },
  {
   "cell_type": "code",
   "execution_count": null,
   "metadata": {},
   "outputs": [],
   "source": []
  }
 ],
 "metadata": {
  "kernelspec": {
   "display_name": "Python 3",
   "language": "python",
   "name": "python3"
  },
  "language_info": {
   "codemirror_mode": {
    "name": "ipython",
    "version": 3
   },
   "file_extension": ".py",
   "mimetype": "text/x-python",
   "name": "python",
   "nbconvert_exporter": "python",
   "pygments_lexer": "ipython3",
   "version": "3.8.5"
  }
 },
 "nbformat": 4,
 "nbformat_minor": 4
}